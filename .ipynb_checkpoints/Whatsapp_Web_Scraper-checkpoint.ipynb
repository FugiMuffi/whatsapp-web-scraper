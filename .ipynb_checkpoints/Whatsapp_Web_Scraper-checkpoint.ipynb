{
 "cells": [
  {
   "cell_type": "markdown",
   "metadata": {},
   "source": [
    "# Whatsapp Web Scraper Using Selenium\n",
    "\n",
    "This application will scrape whatsapp web using selenium"
   ]
  },
  {
   "cell_type": "code",
   "execution_count": null,
   "metadata": {},
   "outputs": [],
   "source": [
    "import configparser\n",
    "import time\n",
    "\n",
    "from selenium import webdriver\n",
    "from selenium.common.exceptions import NoSuchElementException\n",
    "from selenium.webdriver.common.keys import Keys"
   ]
  },
  {
   "cell_type": "code",
   "execution_count": null,
   "metadata": {},
   "outputs": [],
   "source": [
    "driver = webdriver.Chrome(\"./chromedriver.exe\")\n",
    "driver.get(\"http://web.whatsapp.com\")"
   ]
  },
  {
   "cell_type": "code",
   "execution_count": null,
   "metadata": {
    "scrolled": true
   },
   "outputs": [],
   "source": [
    "# get the name of all the chat contacts\n",
    "for chatter in driver.find_elements_by_xpath(\"//div[@class='_2EXPL']\"):\n",
    "    # now we look for the element with the chat name\n",
    "    chatter_name = chatter.find_element_by_xpath(\".//span[contains(@class, '_1wjpf _3NFp9 _3FXB1')]\").text\n",
    "    print(chatter_name)\n",
    "    \n",
    "    # now we get the information in a specific chat\n",
    "    chatter.find_element_by_xpath(\".//div[contains(@class,'_3j7s9')]\").click()\n",
    "    chat_section = driver.find_element_by_xpath(\".//div[contains(@class, '_2nmDZ')]\")\n",
    "    \n",
    "    # scroll until the start of conversation\n",
    "    while not driver.find_elements_by_xpath(\".//span[@data-icon='lock-small']\"):\n",
    "        chat_section.send_keys(Keys.CONTROL + Keys.HOME)\n",
    "        time.sleep(2)\n",
    "        \n",
    "    # create text_file to save messages\n",
    "    chat_file = open(\"wa_chats/convo-{}.txt\".format(chatter_name), 'w+', encoding=\"utf8\")\n",
    "\n",
    "    # grab all the messages a\n",
    "    for messages in driver.find_elements_by_xpath(\n",
    "        \"//div[contains(@class,'message-in')] | //div[contains(@class,'message-out')]\"):\n",
    "        \n",
    "        final_message = \"\"\n",
    "        # get message text and emojis\n",
    "        try:\n",
    "            message = \"\"\n",
    "            emojis = []\n",
    "\n",
    "            message_container = messages.find_element_by_xpath(\n",
    "                \".//div[@class='copyable-text']\")\n",
    "            \n",
    "            message_details = message_container.get_attribute(\"data-pre-plain-text\").replace(\"]\", \" -\").strip(\"[\")\n",
    "            final_message += message_details\n",
    "            \n",
    "            message = message_container.find_element_by_xpath(\n",
    "                \".//span[contains(@class,'selectable-text invisible-space copyable-text')]\"\n",
    "            ).text\n",
    "            final_message += message\n",
    "            \n",
    "            for emoji in message_container.find_elements_by_xpath(\n",
    "                \".//img[contains(@class,'selectable-text invisible-space copyable-text')]\"\n",
    "            ):\n",
    "                emojis.append(emoji.get_attribute(\"data-plain-text\"))\n",
    "            final_message.join(emojis)\n",
    "                \n",
    "        except NoSuchElementException:  # In case there are only emojis in the message\n",
    "            try:\n",
    "                message = \"\"\n",
    "                emojis = []\n",
    "                message_container = messages.find_element_by_xpath(\n",
    "                    \".//div[@class='copyable-text']\")\n",
    "                message_details = message_container.get_attribute(\"data-pre-plain-text\").replace(\"]\", \" -\").strip(\"[\")\n",
    "                final_message += message_details\n",
    "                for emoji in message_container.find_elements_by_xpath(\n",
    "                        \".//img[contains(@class,'selectable-text invisible-space copyable-text')]\"\n",
    "                ):\n",
    "                    emojis.append(emoji.get_attribute(\"data-plain-text\"))\n",
    "                final_message.join(emojis)\n",
    "            except NoSuchElementException:\n",
    "                pass\n",
    "            \n",
    "            \n",
    "        # now, to format the message into a similar style as a whatsapp exported chat\n",
    "        # format follows the following: dd/mm/yyyy, hh:mm - [username]: [chat_message]\n",
    "        msg = final_message + \"\\n\"\n",
    "        chat_file.write(msg)\n",
    "    chat_file.close()"
   ]
  },
  {
   "cell_type": "code",
   "execution_count": null,
   "metadata": {},
   "outputs": [],
   "source": []
  }
 ],
 "metadata": {
  "kernelspec": {
   "display_name": "Python 3",
   "language": "python",
   "name": "python3"
  },
  "language_info": {
   "codemirror_mode": {
    "name": "ipython",
    "version": 3
   },
   "file_extension": ".py",
   "mimetype": "text/x-python",
   "name": "python",
   "nbconvert_exporter": "python",
   "pygments_lexer": "ipython3",
   "version": "3.6.8"
  }
 },
 "nbformat": 4,
 "nbformat_minor": 2
}
