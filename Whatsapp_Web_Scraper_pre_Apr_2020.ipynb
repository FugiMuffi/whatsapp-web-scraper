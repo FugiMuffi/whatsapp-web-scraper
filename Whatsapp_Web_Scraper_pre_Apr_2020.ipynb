{
 "cells": [
  {
   "cell_type": "markdown",
   "metadata": {},
   "source": [
    "# Whatsapp Web Scraper Using Selenium\n",
    "\n",
    "This application will scrape whatsapp web using selenium"
   ]
  },
  {
   "cell_type": "code",
   "execution_count": 42,
   "metadata": {},
   "outputs": [],
   "source": [
    "import configparser\n",
    "import time\n",
    "\n",
    "from selenium import webdriver\n",
    "from selenium.common.exceptions import NoSuchElementException\n",
    "from selenium.webdriver.common.keys import Keys"
   ]
  },
  {
   "cell_type": "code",
   "execution_count": 43,
   "metadata": {},
   "outputs": [],
   "source": [
    "driver = webdriver.Chrome(\"./chromedriver.exe\")\n",
    "driver.get(\"http://web.whatsapp.com\")"
   ]
  },
  {
   "cell_type": "code",
   "execution_count": 46,
   "metadata": {
    "scrolled": true
   },
   "outputs": [
    {
     "ename": "SyntaxError",
     "evalue": "invalid syntax (<ipython-input-46-a5d87e8a935c>, line 62)",
     "output_type": "error",
     "traceback": [
      "\u001b[1;36m  File \u001b[1;32m\"<ipython-input-46-a5d87e8a935c>\"\u001b[1;36m, line \u001b[1;32m62\u001b[0m\n\u001b[1;33m    msg = message_datetime + message \"\\n\"\u001b[0m\n\u001b[1;37m                                        ^\u001b[0m\n\u001b[1;31mSyntaxError\u001b[0m\u001b[1;31m:\u001b[0m invalid syntax\n"
     ]
    }
   ],
   "source": [
    "# get the name of all the chat contacts\n",
    "for chatter in driver.find_elements_by_xpath(\"//div[@class='X7YrQ']\"):\n",
    "    chatter_name = chatter.find_element_by_xpath(\".//span[contains(@class, '_19RFN')]\").text\n",
    "    print(chatter_name)\n",
    "    \n",
    "    # now we get the information in a specific chat\n",
    "    chatter.find_element_by_xpath(\".//div[contains(@class,'_2UaNq')]\").click()\n",
    "    chat_section = driver.find_element_by_xpath(\".//div[contains(@class, '_1ays2')]\")\n",
    "    \n",
    "    # scroll until the start of conversation\n",
    "    while not driver.find_elements_by_xpath(\".//span[@data-icon='lock-small']\"):\n",
    "        chat_section.send_keys(Keys.CONTROL + Keys.HOME)\n",
    "        time.sleep(2)\n",
    "        \n",
    "    # create text_file to save messages\n",
    "    chat_file = open(\"wa_chats/convo-{}.txt\".format(chatter_name), 'w+')\n",
    "\n",
    "    # grab all the messages a\n",
    "    for messages in driver.find_elements_by_xpath(\n",
    "        \"//div[contains(@class,'message-in')] | //div[contains(@class,'message-out')]\"):\n",
    "        \n",
    "        # get the metadata of the chat i.e date time and username\n",
    "        message_metadata = messages.find_element_by_xpath(\"//div[@class='copyable-text']\")\n",
    "        message_metadata = message_metadata.get_attribute(\"data-pre-plain-text\")\n",
    "        \n",
    "        # get message text and emojis\n",
    "        try:\n",
    "            message = \"\"\n",
    "            emojis = []\n",
    "\n",
    "            message_container = messages.find_element_by_xpath(\n",
    "                \".//div[@class='copyable-text']\")\n",
    "\n",
    "            message = message_container.find_element_by_xpath(\n",
    "                \".//span[contains(@class,'selectable-text invisible-space copyable-text')]\"\n",
    "            ).text\n",
    "\n",
    "            for emoji in message_container.find_elements_by_xpath(\n",
    "                \".//img[contains(@class,'selectable-text invisible-space copyable-text')]\"\n",
    "            ):\n",
    "                emojis.append(emoji.get_attribute(\"data-plain-text\"))\n",
    "\n",
    "        except NoSuchElementException:  # In case there are only emojis in the message\n",
    "            try:\n",
    "                message = \"\"\n",
    "                emojis = []\n",
    "                message_container = messages.find_element_by_xpath(\n",
    "                    \".//div[@class='copyable-text']\")\n",
    "\n",
    "                for emoji in message_container.find_elements_by_xpath(\n",
    "                        \".//img[contains(@class,'selectable-text invisible-space copyable-text')]\"\n",
    "                ):\n",
    "                    emojis.append(emoji.get_attribute(\"data-plain-text\"))\n",
    "            except NoSuchElementException:\n",
    "                pass\n",
    "            \n",
    "            \n",
    "        # now, to format the message into a similar style as a whatsapp exported chat\n",
    "        # format follows the following: dd/mm/yyyy, hh:mm - [username]: [chat_message]\n",
    "        \n",
    "        message_datetime = message_metadata.replace(\"]\", \" -\").strip(\"[\")\n",
    "        msg = message_datetime + message + \"\\n\"\n",
    "        chat_file.write(msg)\n",
    "        \n",
    "    chat_file.close()\n",
    "        "
   ]
  },
  {
   "cell_type": "code",
   "execution_count": null,
   "metadata": {},
   "outputs": [],
   "source": []
  }
 ],
 "metadata": {
  "kernelspec": {
   "display_name": "Python 3",
   "language": "python",
   "name": "python3"
  }
 },
 "nbformat": 4,
 "nbformat_minor": 2
}
